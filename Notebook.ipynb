{
  "nbformat": 4,
  "nbformat_minor": 0,
  "metadata": {
    "colab": {
      "provenance": []
    },
    "kernelspec": {
      "name": "python3",
      "display_name": "Python 3"
    },
    "language_info": {
      "name": "python"
    }
  },
  "cells": [
    {
      "cell_type": "markdown",
      "source": [
        "# Video Game Sales And Steam Video Games - Dataset Exploration and Cleaning"
      ],
      "metadata": {
        "id": "ZUswvLuFC0bS"
      }
    },
    {
      "cell_type": "markdown",
      "source": [
        "-- Ajit Mane (ajitmane36@gmail.com)"
      ],
      "metadata": {
        "id": "OMZtEBrv_qaY"
      }
    },
    {
      "cell_type": "markdown",
      "source": [
        "- Data Source\n",
        "1. Video Game sales dataset from Kaggle:\n",
        "https://www.kaggle.com/gregorut/videogamesales\n",
        "2. Video Games traffic on steam dataset from Kaggle:\n",
        "https://www.kaggle.com/tamber/steam-video-games"
      ],
      "metadata": {
        "id": "mxHNX-KCciw8"
      }
    },
    {
      "cell_type": "code",
      "source": [],
      "metadata": {
        "id": "b4Mxjt83QN0U"
      },
      "execution_count": null,
      "outputs": []
    },
    {
      "cell_type": "code",
      "execution_count": 1,
      "metadata": {
        "colab": {
          "base_uri": "https://localhost:8080/"
        },
        "id": "qHMgEX3nh4Vl",
        "outputId": "49357401-5840-4b20-815c-b9c0d8276d5f"
      },
      "outputs": [
        {
          "output_type": "stream",
          "name": "stdout",
          "text": [
            "Looking in indexes: https://pypi.org/simple, https://us-python.pkg.dev/colab-wheels/public/simple/\n",
            "Collecting pyspark\n",
            "  Downloading pyspark-3.4.1.tar.gz (310.8 MB)\n",
            "\u001b[2K     \u001b[90m━━━━━━━━━━━━━━━━━━━━━━━━━━━━━━━━━━━━━━━\u001b[0m \u001b[32m310.8/310.8 MB\u001b[0m \u001b[31m4.3 MB/s\u001b[0m eta \u001b[36m0:00:00\u001b[0m\n",
            "\u001b[?25h  Preparing metadata (setup.py) ... \u001b[?25l\u001b[?25hdone\n",
            "Requirement already satisfied: py4j==0.10.9.7 in /usr/local/lib/python3.10/dist-packages (from pyspark) (0.10.9.7)\n",
            "Building wheels for collected packages: pyspark\n",
            "  Building wheel for pyspark (setup.py) ... \u001b[?25l\u001b[?25hdone\n",
            "  Created wheel for pyspark: filename=pyspark-3.4.1-py2.py3-none-any.whl size=311285398 sha256=a4e36afe13dc9abda11e244dfbb9224b893542bae49bd480e71292fad829fefc\n",
            "  Stored in directory: /root/.cache/pip/wheels/0d/77/a3/ff2f74cc9ab41f8f594dabf0579c2a7c6de920d584206e0834\n",
            "Successfully built pyspark\n",
            "Installing collected packages: pyspark\n",
            "Successfully installed pyspark-3.4.1\n",
            "Looking in indexes: https://pypi.org/simple, https://us-python.pkg.dev/colab-wheels/public/simple/\n",
            "Collecting findspark\n",
            "  Downloading findspark-2.0.1-py2.py3-none-any.whl (4.4 kB)\n",
            "Installing collected packages: findspark\n",
            "Successfully installed findspark-2.0.1\n"
          ]
        }
      ],
      "source": [
        "# Installing pyspark and findspark library\n",
        "!pip install pyspark\n",
        "!pip install findspark"
      ]
    },
    {
      "cell_type": "code",
      "source": [
        "# Importing necessary libraries\n",
        "import pyspark\n",
        "import findspark\n",
        "findspark.init()\n",
        "from pyspark.sql import SparkSession\n",
        "from pyspark.sql.functions import *\n",
        "from pyspark.sql.types import *\n",
        "from pyspark.sql.functions import col, sum\n"
      ],
      "metadata": {
        "id": "-wKGOO0Qh-_v"
      },
      "execution_count": 2,
      "outputs": []
    },
    {
      "cell_type": "code",
      "source": [
        "# Creating instance of spark\n",
        "spark = SparkSession.builder.appName(\"Data Exploration and Cleaning\").getOrCreate()\n",
        "spark"
      ],
      "metadata": {
        "colab": {
          "base_uri": "https://localhost:8080/",
          "height": 241
        },
        "id": "nOtQKOAniBfF",
        "outputId": "57e0a4bd-8e11-4bd3-c4af-aff3fba59303"
      },
      "execution_count": 3,
      "outputs": [
        {
          "output_type": "execute_result",
          "data": {
            "text/plain": [
              "<pyspark.sql.session.SparkSession at 0x7fc0d45e2f80>"
            ],
            "text/html": [
              "\n",
              "            <div>\n",
              "                <p><b>SparkSession - in-memory</b></p>\n",
              "                \n",
              "        <div>\n",
              "            <p><b>SparkContext</b></p>\n",
              "\n",
              "            <p><a href=\"http://8277baf8a3d0:4040\">Spark UI</a></p>\n",
              "\n",
              "            <dl>\n",
              "              <dt>Version</dt>\n",
              "                <dd><code>v3.4.1</code></dd>\n",
              "              <dt>Master</dt>\n",
              "                <dd><code>local[*]</code></dd>\n",
              "              <dt>AppName</dt>\n",
              "                <dd><code>Data Exploration and Cleaning</code></dd>\n",
              "            </dl>\n",
              "        </div>\n",
              "        \n",
              "            </div>\n",
              "        "
            ]
          },
          "metadata": {},
          "execution_count": 3
        }
      ]
    },
    {
      "cell_type": "code",
      "source": [
        "# Connecting to google drive for conecting dataset\n",
        "from google.colab import drive\n",
        "drive.mount('/content/drive')\n"
      ],
      "metadata": {
        "colab": {
          "base_uri": "https://localhost:8080/"
        },
        "id": "ZtMkkBhgiXRY",
        "outputId": "3ae7b505-dd2b-4c9c-9213-d890c93a289b"
      },
      "execution_count": 4,
      "outputs": [
        {
          "output_type": "stream",
          "name": "stdout",
          "text": [
            "Mounted at /content/drive\n"
          ]
        }
      ]
    },
    {
      "cell_type": "code",
      "source": [
        "# Loading datasets\n",
        "video_game_sales_df_path='/content/drive/MyDrive/AImaBetter/9. AlmaX/AlmaX Jobs And Tracking/Almabetter AlmaX/IndiGG/vgsales.csv'\n",
        "video_games_traffic_df_path='/content/drive/MyDrive/AImaBetter/9. AlmaX/AlmaX Jobs And Tracking/Almabetter AlmaX/IndiGG/steam-200k.csv'\n",
        "vgsales_df = spark.read.csv(video_game_sales_df_path, header=True, inferSchema=True)\n",
        "vgtraffic_df = spark.read.csv(video_games_traffic_df_path, header=True, inferSchema=True)"
      ],
      "metadata": {
        "id": "m1W6G9F7GYcY"
      },
      "execution_count": 5,
      "outputs": []
    },
    {
      "cell_type": "code",
      "source": [
        "# Video games sales dataset\n",
        "vgsales_df.show()"
      ],
      "metadata": {
        "colab": {
          "base_uri": "https://localhost:8080/"
        },
        "id": "TWFt0uRCK_wc",
        "outputId": "f1a0348a-0755-4423-929d-6f09bfe9a99a"
      },
      "execution_count": 6,
      "outputs": [
        {
          "output_type": "stream",
          "name": "stdout",
          "text": [
            "+----+--------------------+--------+----+------------+--------------------+--------+--------+--------+-----------+------------+\n",
            "|Rank|                Name|Platform|Year|       Genre|           Publisher|NA_Sales|EU_Sales|JP_Sales|Other_Sales|Global_Sales|\n",
            "+----+--------------------+--------+----+------------+--------------------+--------+--------+--------+-----------+------------+\n",
            "|   1|          Wii Sports|     Wii|2006|      Sports|            Nintendo|   41.49|   29.02|    3.77|       8.46|       82.74|\n",
            "|   2|   Super Mario Bros.|     NES|1985|    Platform|            Nintendo|   29.08|    3.58|    6.81|       0.77|       40.24|\n",
            "|   3|      Mario Kart Wii|     Wii|2008|      Racing|            Nintendo|   15.85|   12.88|    3.79|       3.31|       35.82|\n",
            "|   4|   Wii Sports Resort|     Wii|2009|      Sports|            Nintendo|   15.75|   11.01|    3.28|       2.96|        33.0|\n",
            "|   5|Pokemon Red/Pokem...|      GB|1996|Role-Playing|            Nintendo|   11.27|    8.89|   10.22|        1.0|       31.37|\n",
            "|   6|              Tetris|      GB|1989|      Puzzle|            Nintendo|    23.2|    2.26|    4.22|       0.58|       30.26|\n",
            "|   7|New Super Mario B...|      DS|2006|    Platform|            Nintendo|   11.38|    9.23|     6.5|        2.9|       30.01|\n",
            "|   8|            Wii Play|     Wii|2006|        Misc|            Nintendo|   14.03|     9.2|    2.93|       2.85|       29.02|\n",
            "|   9|New Super Mario B...|     Wii|2009|    Platform|            Nintendo|   14.59|    7.06|     4.7|       2.26|       28.62|\n",
            "|  10|           Duck Hunt|     NES|1984|     Shooter|            Nintendo|   26.93|    0.63|    0.28|       0.47|       28.31|\n",
            "|  11|          Nintendogs|      DS|2005|  Simulation|            Nintendo|    9.07|    11.0|    1.93|       2.75|       24.76|\n",
            "|  12|       Mario Kart DS|      DS|2005|      Racing|            Nintendo|    9.81|    7.57|    4.13|       1.92|       23.42|\n",
            "|  13|Pokemon Gold/Poke...|      GB|1999|Role-Playing|            Nintendo|     9.0|    6.18|     7.2|       0.71|        23.1|\n",
            "|  14|             Wii Fit|     Wii|2007|      Sports|            Nintendo|    8.94|    8.03|     3.6|       2.15|       22.72|\n",
            "|  15|        Wii Fit Plus|     Wii|2009|      Sports|            Nintendo|    9.09|    8.59|    2.53|       1.79|        22.0|\n",
            "|  16|  Kinect Adventures!|    X360|2010|        Misc|Microsoft Game St...|   14.97|    4.94|    0.24|       1.67|       21.82|\n",
            "|  17|  Grand Theft Auto V|     PS3|2013|      Action|Take-Two Interactive|    7.01|    9.27|    0.97|       4.14|        21.4|\n",
            "|  18|Grand Theft Auto:...|     PS2|2004|      Action|Take-Two Interactive|    9.43|     0.4|    0.41|      10.57|       20.81|\n",
            "|  19|   Super Mario World|    SNES|1990|    Platform|            Nintendo|   12.78|    3.75|    3.54|       0.55|       20.61|\n",
            "|  20|Brain Age: Train ...|      DS|2005|        Misc|            Nintendo|    4.75|    9.26|    4.16|       2.05|       20.22|\n",
            "+----+--------------------+--------+----+------------+--------------------+--------+--------+--------+-----------+------------+\n",
            "only showing top 20 rows\n",
            "\n"
          ]
        }
      ]
    },
    {
      "cell_type": "code",
      "source": [
        "# Video games traffic dataset\n",
        "vgtraffic_df.show()"
      ],
      "metadata": {
        "colab": {
          "base_uri": "https://localhost:8080/"
        },
        "id": "MXAbQ-N3LLF2",
        "outputId": "2705872d-6199-456f-f514-d95054d60c6d"
      },
      "execution_count": 7,
      "outputs": [
        {
          "output_type": "stream",
          "name": "stdout",
          "text": [
            "+---------+--------------------------+--------+-----+---+\n",
            "|151603712|The Elder Scrolls V Skyrim|purchase|  1.0|  0|\n",
            "+---------+--------------------------+--------+-----+---+\n",
            "|151603712|      The Elder Scrolls...|    play|273.0|  0|\n",
            "|151603712|                 Fallout 4|purchase|  1.0|  0|\n",
            "|151603712|                 Fallout 4|    play| 87.0|  0|\n",
            "|151603712|                     Spore|purchase|  1.0|  0|\n",
            "|151603712|                     Spore|    play| 14.9|  0|\n",
            "|151603712|         Fallout New Vegas|purchase|  1.0|  0|\n",
            "|151603712|         Fallout New Vegas|    play| 12.1|  0|\n",
            "|151603712|             Left 4 Dead 2|purchase|  1.0|  0|\n",
            "|151603712|             Left 4 Dead 2|    play|  8.9|  0|\n",
            "|151603712|                  HuniePop|purchase|  1.0|  0|\n",
            "|151603712|                  HuniePop|    play|  8.5|  0|\n",
            "|151603712|             Path of Exile|purchase|  1.0|  0|\n",
            "|151603712|             Path of Exile|    play|  8.1|  0|\n",
            "|151603712|               Poly Bridge|purchase|  1.0|  0|\n",
            "|151603712|               Poly Bridge|    play|  7.5|  0|\n",
            "|151603712|               Left 4 Dead|purchase|  1.0|  0|\n",
            "|151603712|               Left 4 Dead|    play|  3.3|  0|\n",
            "|151603712|           Team Fortress 2|purchase|  1.0|  0|\n",
            "|151603712|           Team Fortress 2|    play|  2.8|  0|\n",
            "|151603712|               Tomb Raider|purchase|  1.0|  0|\n",
            "+---------+--------------------------+--------+-----+---+\n",
            "only showing top 20 rows\n",
            "\n"
          ]
        }
      ]
    },
    {
      "cell_type": "markdown",
      "source": [
        "- Found that, first row values as header present in video games traffic dataset, so giving appropriate feature names to dataset"
      ],
      "metadata": {
        "id": "awW6kIIhLVT8"
      }
    },
    {
      "cell_type": "code",
      "source": [
        "# Adding column names for video games traffic dataset\n",
        "column_name=[ 'user-id', 'game-title', 'behavior-name', 'value','0']\n",
        "vgtraffic_df = vgtraffic_df.toDF(*column_name)\n",
        "vgtraffic_df.show()"
      ],
      "metadata": {
        "colab": {
          "base_uri": "https://localhost:8080/"
        },
        "id": "qaOdYglqNxFe",
        "outputId": "276f51c6-b3e3-497b-81f2-236482914214"
      },
      "execution_count": 8,
      "outputs": [
        {
          "output_type": "stream",
          "name": "stdout",
          "text": [
            "+---------+--------------------+-------------+-----+---+\n",
            "|  user-id|          game-title|behavior-name|value|  0|\n",
            "+---------+--------------------+-------------+-----+---+\n",
            "|151603712|The Elder Scrolls...|         play|273.0|  0|\n",
            "|151603712|           Fallout 4|     purchase|  1.0|  0|\n",
            "|151603712|           Fallout 4|         play| 87.0|  0|\n",
            "|151603712|               Spore|     purchase|  1.0|  0|\n",
            "|151603712|               Spore|         play| 14.9|  0|\n",
            "|151603712|   Fallout New Vegas|     purchase|  1.0|  0|\n",
            "|151603712|   Fallout New Vegas|         play| 12.1|  0|\n",
            "|151603712|       Left 4 Dead 2|     purchase|  1.0|  0|\n",
            "|151603712|       Left 4 Dead 2|         play|  8.9|  0|\n",
            "|151603712|            HuniePop|     purchase|  1.0|  0|\n",
            "|151603712|            HuniePop|         play|  8.5|  0|\n",
            "|151603712|       Path of Exile|     purchase|  1.0|  0|\n",
            "|151603712|       Path of Exile|         play|  8.1|  0|\n",
            "|151603712|         Poly Bridge|     purchase|  1.0|  0|\n",
            "|151603712|         Poly Bridge|         play|  7.5|  0|\n",
            "|151603712|         Left 4 Dead|     purchase|  1.0|  0|\n",
            "|151603712|         Left 4 Dead|         play|  3.3|  0|\n",
            "|151603712|     Team Fortress 2|     purchase|  1.0|  0|\n",
            "|151603712|     Team Fortress 2|         play|  2.8|  0|\n",
            "|151603712|         Tomb Raider|     purchase|  1.0|  0|\n",
            "+---------+--------------------+-------------+-----+---+\n",
            "only showing top 20 rows\n",
            "\n"
          ]
        }
      ]
    },
    {
      "cell_type": "markdown",
      "source": [
        "## Data Inispection"
      ],
      "metadata": {
        "id": "YRd53KyTRHAn"
      }
    },
    {
      "cell_type": "code",
      "source": [
        "# Checking number of rows and columns present in each dataset\n",
        "\n",
        "# Check the number of rows and columns for vgsales_df\n",
        "print(f\"vgsales_df contains {vgsales_df.count()} rows and {len(vgsales_df.columns)} columns\")\n",
        "\n",
        "# Check the number of rows and columns for vgtraffic_df\n",
        "print(f\"vgtraffic_df contains {vgtraffic_df.count()} rows and {len(vgtraffic_df.columns)} columns\")\n"
      ],
      "metadata": {
        "colab": {
          "base_uri": "https://localhost:8080/"
        },
        "id": "_1oQz_txTYVY",
        "outputId": "d93639ef-61e1-49fe-d0bc-1f7b406b0647"
      },
      "execution_count": 9,
      "outputs": [
        {
          "output_type": "stream",
          "name": "stdout",
          "text": [
            "vgsales_df contains 16598 rows and 11 columns\n",
            "vgtraffic_df contains 199999 rows and 5 columns\n"
          ]
        }
      ]
    },
    {
      "cell_type": "code",
      "source": [
        "# Checking schema of the datasets\n",
        "vgsales_df.printSchema()\n",
        "vgtraffic_df.printSchema()"
      ],
      "metadata": {
        "colab": {
          "base_uri": "https://localhost:8080/"
        },
        "id": "N4extpCtNK7i",
        "outputId": "b9f3a712-7e33-4fc0-98a2-5155d563fc0c"
      },
      "execution_count": 10,
      "outputs": [
        {
          "output_type": "stream",
          "name": "stdout",
          "text": [
            "root\n",
            " |-- Rank: integer (nullable = true)\n",
            " |-- Name: string (nullable = true)\n",
            " |-- Platform: string (nullable = true)\n",
            " |-- Year: string (nullable = true)\n",
            " |-- Genre: string (nullable = true)\n",
            " |-- Publisher: string (nullable = true)\n",
            " |-- NA_Sales: double (nullable = true)\n",
            " |-- EU_Sales: double (nullable = true)\n",
            " |-- JP_Sales: double (nullable = true)\n",
            " |-- Other_Sales: double (nullable = true)\n",
            " |-- Global_Sales: double (nullable = true)\n",
            "\n",
            "root\n",
            " |-- user-id: integer (nullable = true)\n",
            " |-- game-title: string (nullable = true)\n",
            " |-- behavior-name: string (nullable = true)\n",
            " |-- value: double (nullable = true)\n",
            " |-- 0: integer (nullable = true)\n",
            "\n"
          ]
        }
      ]
    },
    {
      "cell_type": "markdown",
      "source": [
        "- Datasets having diffrent data type features like integer, string, and double.\n",
        "- Feature Year can not be string, need to be converted to integer."
      ],
      "metadata": {
        "id": "6fPEaij_WdAq"
      }
    },
    {
      "cell_type": "markdown",
      "source": [
        "# Understanding Variables"
      ],
      "metadata": {
        "id": "oAhNJT_CZbXO"
      }
    },
    {
      "cell_type": "code",
      "source": [
        "# Checking categorical and numerical variables from each dataset\n",
        "\n",
        "# Categorical and numerical variables in the \"Video Game sales\" dataset\n",
        "vgsales_categorical_cols = []\n",
        "vgsales_numerical_cols = []\n",
        "\n",
        "for column, dtype in vgsales_df.dtypes:\n",
        "    if dtype == \"string\":\n",
        "        vgsales_categorical_cols.append(column)\n",
        "    elif dtype in [\"int\",\"double\"]:\n",
        "        vgsales_numerical_cols.append(column)\n",
        "\n",
        "print(f\"{len(vgsales_categorical_cols)} categorical columns present in 'Video Game sales' dataset: {vgsales_categorical_cols}\")\n",
        "print(f\"{len(vgsales_numerical_cols)} Numerical columns present in 'Video Game sales' dataset: {vgsales_numerical_cols}\")\n",
        "\n",
        "\n",
        "# Categorical and numerical variables in the \"Video Games traffic on steam\" dataset\n",
        "vgtraffic_categorical_cols = []\n",
        "vgtraffic_numerical_cols = []\n",
        "\n",
        "for column, dtype in vgtraffic_df.dtypes:\n",
        "    if dtype == \"string\":\n",
        "        vgtraffic_categorical_cols.append(column)\n",
        "    elif dtype in [\"byte\", \"short\", \"int\", \"long\", \"float\", \"double\"]:\n",
        "        vgtraffic_numerical_cols.append(column)\n",
        "\n",
        "print(f\"{len(vgtraffic_categorical_cols)} categorical columns present in 'Video Games traffic data' dataset: {vgtraffic_categorical_cols}\")\n",
        "print(f\"{len(vgtraffic_numerical_cols)} numerical columns present in 'Video Games traffic data' dataset: {vgtraffic_numerical_cols}\")"
      ],
      "metadata": {
        "colab": {
          "base_uri": "https://localhost:8080/"
        },
        "id": "z-Fwoe3eLSa-",
        "outputId": "92e59b3c-af9c-41ef-b0a2-04f19a44fdcc"
      },
      "execution_count": 11,
      "outputs": [
        {
          "output_type": "stream",
          "name": "stdout",
          "text": [
            "5 categorical columns present in 'Video Game sales' dataset: ['Name', 'Platform', 'Year', 'Genre', 'Publisher']\n",
            "6 Numerical columns present in 'Video Game sales' dataset: ['Rank', 'NA_Sales', 'EU_Sales', 'JP_Sales', 'Other_Sales', 'Global_Sales']\n",
            "2 categorical columns present in 'Video Games traffic data' dataset: ['game-title', 'behavior-name']\n",
            "3 numerical columns present in 'Video Games traffic data' dataset: ['user-id', 'value', '0']\n"
          ]
        }
      ]
    },
    {
      "cell_type": "markdown",
      "source": [
        "\n",
        "- At first, we found that the video game sales dataset had year as a categorical variable, but year was wrongly assigned as a string data type, so further in data cleaning and preprocession, we will convert it to an integer."
      ],
      "metadata": {
        "id": "5qJDStRpvqqy"
      }
    },
    {
      "cell_type": "markdown",
      "source": [
        "# Data Cleaning and Preprocessing"
      ],
      "metadata": {
        "id": "NSdf-wyhxNFb"
      }
    },
    {
      "cell_type": "markdown",
      "source": [
        "[1] Handling Duplicated data"
      ],
      "metadata": {
        "id": "RXbYd40dxaCm"
      }
    },
    {
      "cell_type": "code",
      "source": [
        "# Check for duplicates in the \"Video Game sales\" dataset\n",
        "vgsales_duplicates = vgsales_df.dropDuplicates()\n",
        "num_vgsales_duplicates = vgsales_duplicates.count()\n",
        "\n",
        "if num_vgsales_duplicates > 0:\n",
        "    print(\"Duplicates found in 'Video Game sales' dataset.\")\n",
        "    print(\"Number of duplicate rows:\", num_vgsales_duplicates)\n",
        "else:\n",
        "    print(\"No duplicates found in 'Video Game sales' dataset.\")\n",
        "\n",
        "# Check for duplicates in the \"Video Games traffic on steam\" dataset\n",
        "vgtraffic_duplicates = vgtraffic_df.dropDuplicates()\n",
        "num_vgtraffic_duplicates = vgtraffic_duplicates.count()\n",
        "\n",
        "if num_vgtraffic_duplicates > 0:\n",
        "    print(\"Duplicates found in 'Video Games traffic on steam' dataset.\")\n",
        "    print(\"Number of duplicate rows:\", num_vgtraffic_duplicates)\n",
        "else:\n",
        "    print(\"No duplicates found in 'Video Games traffic on steam' dataset.\")\n"
      ],
      "metadata": {
        "colab": {
          "base_uri": "https://localhost:8080/"
        },
        "id": "39LDyB-QeKcO",
        "outputId": "f4629583-ec29-4e8b-fc0a-44accf062f7c"
      },
      "execution_count": 12,
      "outputs": [
        {
          "output_type": "stream",
          "name": "stdout",
          "text": [
            "Duplicates found in 'Video Game sales' dataset.\n",
            "Number of duplicate rows: 16598\n",
            "Duplicates found in 'Video Games traffic on steam' dataset.\n",
            "Number of duplicate rows: 199292\n"
          ]
        }
      ]
    },
    {
      "cell_type": "code",
      "source": [
        "# Dropping duplicated\n",
        "\n",
        "# Drop duplicates in the \"Video Game sales\" dataset\n",
        "vgsales_duplicates_removed = vgsales_df.dropDuplicates()\n",
        "num_vgsales_rows = vgsales_duplicates_removed.count()\n",
        "\n",
        "print(\"Number of rows remaining after dropping duplicates in 'Video Game sales' dataset:\", num_vgsales_rows)\n",
        "\n",
        "# Drop duplicates in the \"Video Games traffic on steam\" dataset\n",
        "vgtraffic_duplicates_removed = vgtraffic_df.dropDuplicates()\n",
        "num_vgtraffic_rows = vgtraffic_duplicates_removed.count()\n",
        "\n",
        "print(\"Number of rows remaining after dropping duplicates in 'Video Games traffic' dataset:\", num_vgtraffic_rows)\n"
      ],
      "metadata": {
        "colab": {
          "base_uri": "https://localhost:8080/"
        },
        "id": "LLwuQ1fGydqL",
        "outputId": "3f275a53-4a12-4d2d-c294-1d3d311d57cd"
      },
      "execution_count": 13,
      "outputs": [
        {
          "output_type": "stream",
          "name": "stdout",
          "text": [
            "Number of rows remaining after dropping duplicates in 'Video Game sales' dataset: 16598\n",
            "Number of rows remaining after dropping duplicates in 'Video Games traffic' dataset: 199292\n"
          ]
        }
      ]
    },
    {
      "cell_type": "markdown",
      "source": [
        "[2] Handling null/missing data"
      ],
      "metadata": {
        "id": "Zub3VKJ61kzC"
      }
    },
    {
      "cell_type": "code",
      "source": [
        "# Checking null values for each dataset\n",
        "\n",
        "from pyspark.sql.functions import col, sum\n",
        "\n",
        "# Calculate the number of nulls for each variable in the \"Video Game sales\" dataset\n",
        "vgsales_null_counts = vgsales_duplicates_removed.select(*[sum(col(c).isNull().cast(\"int\")).alias(c) for c in vgsales_duplicates_removed.columns])\n",
        "\n",
        "# Calculate the number of nulls for each variable in the \"Video Games traffic on steam\" dataset\n",
        "vgtraffic_null_counts = vgtraffic_duplicates_removed.select(*[sum(col(c).isNull().cast(\"int\")).alias(c) for c in vgtraffic_duplicates_removed.columns])\n",
        "\n",
        "# Create a table to display the variable name and number of nulls for the \"Video Game sales\" dataset\n",
        "vgsales_null_table = spark.createDataFrame([(c, vgsales_null_counts.first()[c]) for c in vgsales_null_counts.columns], [\"Variable\", \"Nulls\"])\n",
        "\n",
        "# Create a table to display the variable name and number of nulls for the \"Video Games traffic on steam\" dataset\n",
        "vgtraffic_null_table = spark.createDataFrame([(c, vgtraffic_null_counts.first()[c]) for c in vgtraffic_null_counts.columns], [\"Variable\", \"Nulls\"])\n",
        "\n",
        "# Show the null table for the \"Video Game sales\" dataset\n",
        "print(\"Null values in 'Video Game sales' dataset:\")\n",
        "vgsales_null_table.show(truncate=False)\n",
        "\n",
        "# Show the null table for the \"Video Games traffic on steam\" dataset\n",
        "print(\"Null values in 'Video Games traffic on steam' dataset:\")\n",
        "vgtraffic_null_table.show(truncate=False)\n"
      ],
      "metadata": {
        "colab": {
          "base_uri": "https://localhost:8080/"
        },
        "id": "voRNyKqT08dN",
        "outputId": "9bc15a1a-62f7-44e2-92e6-b3da36e26004"
      },
      "execution_count": 14,
      "outputs": [
        {
          "output_type": "stream",
          "name": "stdout",
          "text": [
            "Null values in 'Video Game sales' dataset:\n",
            "+------------+-----+\n",
            "|Variable    |Nulls|\n",
            "+------------+-----+\n",
            "|Rank        |0    |\n",
            "|Name        |0    |\n",
            "|Platform    |0    |\n",
            "|Year        |0    |\n",
            "|Genre       |0    |\n",
            "|Publisher   |0    |\n",
            "|NA_Sales    |0    |\n",
            "|EU_Sales    |0    |\n",
            "|JP_Sales    |0    |\n",
            "|Other_Sales |0    |\n",
            "|Global_Sales|0    |\n",
            "+------------+-----+\n",
            "\n",
            "Null values in 'Video Games traffic on steam' dataset:\n",
            "+-------------+-----+\n",
            "|Variable     |Nulls|\n",
            "+-------------+-----+\n",
            "|user-id      |0    |\n",
            "|game-title   |0    |\n",
            "|behavior-name|0    |\n",
            "|value        |0    |\n",
            "|0            |0    |\n",
            "+-------------+-----+\n",
            "\n"
          ]
        }
      ]
    },
    {
      "cell_type": "markdown",
      "source": [
        "- Both datasets, \"Video Game sales\" and \"Video Games traffic\" do not contain any null or missing values."
      ],
      "metadata": {
        "id": "6IFJPhQt3q7z"
      }
    },
    {
      "cell_type": "markdown",
      "source": [
        "[3] Basic description of both dataset"
      ],
      "metadata": {
        "id": "Xzlq94Se8EXt"
      }
    },
    {
      "cell_type": "code",
      "source": [
        "# Display the schema information of the \"Video Games traffic on steam\" dataset\n",
        "print(\"Schema information of 'Video Games traffic on steam' dataset:\")\n",
        "vgtraffic_duplicates_removed.printSchema()\n",
        "\n",
        "# Display the schema information of the \"Video Game sales\" dataset\n",
        "print(\"Schema information of 'Video Game sales' dataset:\")\n",
        "vgsales_duplicates_removed.printSchema()\n"
      ],
      "metadata": {
        "colab": {
          "base_uri": "https://localhost:8080/"
        },
        "id": "LhFqtQ1C10y3",
        "outputId": "7440f258-2d67-4a72-9453-e26d8693af18"
      },
      "execution_count": 15,
      "outputs": [
        {
          "output_type": "stream",
          "name": "stdout",
          "text": [
            "Schema information of 'Video Games traffic on steam' dataset:\n",
            "root\n",
            " |-- user-id: integer (nullable = true)\n",
            " |-- game-title: string (nullable = true)\n",
            " |-- behavior-name: string (nullable = true)\n",
            " |-- value: double (nullable = true)\n",
            " |-- 0: integer (nullable = true)\n",
            "\n",
            "Schema information of 'Video Game sales' dataset:\n",
            "root\n",
            " |-- Rank: integer (nullable = true)\n",
            " |-- Name: string (nullable = true)\n",
            " |-- Platform: string (nullable = true)\n",
            " |-- Year: string (nullable = true)\n",
            " |-- Genre: string (nullable = true)\n",
            " |-- Publisher: string (nullable = true)\n",
            " |-- NA_Sales: double (nullable = true)\n",
            " |-- EU_Sales: double (nullable = true)\n",
            " |-- JP_Sales: double (nullable = true)\n",
            " |-- Other_Sales: double (nullable = true)\n",
            " |-- Global_Sales: double (nullable = true)\n",
            "\n"
          ]
        }
      ]
    },
    {
      "cell_type": "markdown",
      "source": [
        "- The \"0\" column in the video games traffic dataset is useless and should be removed.\n",
        "- The \"Year\" column in the video games sales dataset is wrongly assigned as a string and should be converted to an integer."
      ],
      "metadata": {
        "id": "kelWFhLK-2Cs"
      }
    },
    {
      "cell_type": "code",
      "source": [
        "# Remove the \"0\" column from the traffic dataset\n",
        "vgtraffic_duplicates_removed = vgtraffic_duplicates_removed.drop(\"0\")\n",
        "\n",
        "# Convert the \"Year\" column in the sales dataset from string to integer\n",
        "vgsales_duplicates_removed = vgsales_duplicates_removed.withColumn(\"Year\", vgsales_duplicates_removed[\"Year\"].cast(\"integer\"))\n"
      ],
      "metadata": {
        "id": "BZEqUsEE848m"
      },
      "execution_count": 16,
      "outputs": []
    },
    {
      "cell_type": "code",
      "source": [
        "# Print the schema of the modified \"Video Games traffic\" dataset\n",
        "print(\"Schema of 'Video Games traffic on steam' dataset after removing the '0' column:\")\n",
        "vgtraffic_duplicates_removed.printSchema()\n",
        "\n",
        "# Print the schema of the modified \"Video Game sales\" dataset\n",
        "print(\"Schema of 'Video Game sales' dataset after converting the 'Year' column to integer:\")\n",
        "vgsales_duplicates_removed.printSchema()\n"
      ],
      "metadata": {
        "colab": {
          "base_uri": "https://localhost:8080/"
        },
        "id": "-cudho49_Ks-",
        "outputId": "0519442a-4518-4106-cf86-dfe15651e31d"
      },
      "execution_count": 17,
      "outputs": [
        {
          "output_type": "stream",
          "name": "stdout",
          "text": [
            "Schema of 'Video Games traffic on steam' dataset after removing the '0' column:\n",
            "root\n",
            " |-- user-id: integer (nullable = true)\n",
            " |-- game-title: string (nullable = true)\n",
            " |-- behavior-name: string (nullable = true)\n",
            " |-- value: double (nullable = true)\n",
            "\n",
            "Schema of 'Video Game sales' dataset after converting the 'Year' column to integer:\n",
            "root\n",
            " |-- Rank: integer (nullable = true)\n",
            " |-- Name: string (nullable = true)\n",
            " |-- Platform: string (nullable = true)\n",
            " |-- Year: integer (nullable = true)\n",
            " |-- Genre: string (nullable = true)\n",
            " |-- Publisher: string (nullable = true)\n",
            " |-- NA_Sales: double (nullable = true)\n",
            " |-- EU_Sales: double (nullable = true)\n",
            " |-- JP_Sales: double (nullable = true)\n",
            " |-- Other_Sales: double (nullable = true)\n",
            " |-- Global_Sales: double (nullable = true)\n",
            "\n"
          ]
        }
      ]
    },
    {
      "cell_type": "markdown",
      "source": [
        "[4] Merge datasets"
      ],
      "metadata": {
        "id": "IqkFP9Li_5r1"
      }
    },
    {
      "cell_type": "code",
      "source": [
        "# DataFrames vgsales_duplicates_removed and vgtraffic_duplicates_removed\n",
        "\n",
        "# Merge the datasets based on common columns\n",
        "merged_df = vgsales_duplicates_removed.join(\n",
        "    vgtraffic_duplicates_removed,\n",
        "    vgsales_duplicates_removed[\"Name\"] == vgtraffic_duplicates_removed[\"game-title\"],\n",
        "    \"inner\"\n",
        ")\n",
        "\n",
        "# Show the merged DataFrame\n",
        "merged_df.show()\n"
      ],
      "metadata": {
        "colab": {
          "base_uri": "https://localhost:8080/"
        },
        "id": "BVYV3Os6xPoe",
        "outputId": "76dbe529-bd13-4d0b-ef4d-27f684267c93"
      },
      "execution_count": 18,
      "outputs": [
        {
          "output_type": "stream",
          "name": "stdout",
          "text": [
            "+-----+--------------------+--------+----+--------+--------------------+--------+--------+--------+-----------+------------+---------+--------------------+-------------+------+\n",
            "| Rank|                Name|Platform|Year|   Genre|           Publisher|NA_Sales|EU_Sales|JP_Sales|Other_Sales|Global_Sales|  user-id|          game-title|behavior-name| value|\n",
            "+-----+--------------------+--------+----+--------+--------------------+--------+--------+--------+-----------+------------+---------+--------------------+-------------+------+\n",
            "| 1071|Sid Meier's Civil...|      PC|2010|Strategy|Take-Two Interactive|    0.98|    0.52|     0.0|       0.19|        1.69| 53875128|Sid Meier's Civil...|         play|   5.9|\n",
            "|15592|       Peggle Nights|      PC|2008|  Puzzle|        PopCap Games|     0.0|    0.01|     0.0|        0.0|        0.02| 11373749|       Peggle Nights|         play|  19.5|\n",
            "|  302|       Left 4 Dead 2|    X360|2009| Shooter|     Electronic Arts|    2.67|    0.89|    0.05|       0.37|        3.99| 49769103|       Left 4 Dead 2|         play|   1.4|\n",
            "| 5160|       Left 4 Dead 2|      PC|2009| Shooter|      Valve Software|     0.0|    0.32|     0.0|       0.04|        0.37| 49769103|       Left 4 Dead 2|         play|   1.4|\n",
            "| 5201|Assassin's Creed III|    WiiU|2012|  Action|             Ubisoft|    0.19|    0.13|     0.0|       0.03|        0.36| 64369759|Assassin's Creed III|     purchase|   1.0|\n",
            "| 2204|Assassin's Creed III|      PC|2012|  Action|             Ubisoft|    0.28|    0.53|     0.0|       0.13|        0.94| 64369759|Assassin's Creed III|     purchase|   1.0|\n",
            "|  129|Assassin's Creed III|     PS3|2012|  Action|             Ubisoft|    2.64|    2.56|    0.16|       1.14|         6.5| 64369759|Assassin's Creed III|     purchase|   1.0|\n",
            "|  173|Assassin's Creed III|    X360|2012|  Action|             Ubisoft|    3.13|    1.71|    0.03|       0.44|         5.3| 64369759|Assassin's Creed III|     purchase|   1.0|\n",
            "| 1201|          BioShock 2|     PS3|2010| Shooter|Take-Two Interactive|    0.85|    0.47|    0.02|       0.22|        1.55|  9823354|          BioShock 2|     purchase|   1.0|\n",
            "| 6808|          BioShock 2|      PC|null| Shooter|Take-Two Interactive|    0.02|    0.19|     0.0|       0.04|        0.24|  9823354|          BioShock 2|     purchase|   1.0|\n",
            "|  732|          BioShock 2|    X360|2010| Shooter|Take-Two Interactive|    1.45|    0.55|    0.02|       0.19|        2.21|  9823354|          BioShock 2|     purchase|   1.0|\n",
            "| 1833|      Counter-Strike|      XB|2003| Shooter|Microsoft Game St...|    0.85|    0.23|     0.0|       0.04|        1.11|162649407|      Counter-Strike|     purchase|   1.0|\n",
            "|15092|         Left 4 Dead|      PC|2008| Shooter|     Electronic Arts|     0.0|    0.02|     0.0|        0.0|        0.02|112994491|         Left 4 Dead|     purchase|   1.0|\n",
            "|  370|         Left 4 Dead|    X360|2008| Shooter|     Electronic Arts|    2.66|     0.5|    0.05|        0.3|        3.52|112994491|         Left 4 Dead|     purchase|   1.0|\n",
            "|14302|          Men of War|      PC|2009|Strategy|           505 Games|    0.01|    0.02|     0.0|       0.01|        0.03| 77870593|          Men of War|     purchase|   1.0|\n",
            "| 2024|         Tomb Raider|      PC|1996|  Action|   Eidos Interactive|    0.96|    0.07|     0.0|        0.0|        1.03| 65958466|         Tomb Raider|         play|   0.8|\n",
            "|  230|         Tomb Raider|      PS|1996|  Action|   Eidos Interactive|    2.29|    1.97|    0.13|       0.24|        4.63| 65958466|         Tomb Raider|         play|   0.8|\n",
            "|10728|Ultra Street Figh...|     PS4|2015|Fighting|              Capcom|     0.0|    0.08|     0.0|       0.01|         0.1| 61676491|Ultra Street Figh...|     purchase|   1.0|\n",
            "|10102| Stronghold Kingdoms|      PC|2011|Strategy|   DTP Entertainment|     0.0|     0.1|     0.0|       0.02|        0.11|196223620| Stronghold Kingdoms|     purchase|   1.0|\n",
            "| 1833|      Counter-Strike|      XB|2003| Shooter|Microsoft Game St...|    0.85|    0.23|     0.0|       0.04|        1.11|  4064412|      Counter-Strike|         play|1312.0|\n",
            "+-----+--------------------+--------+----+--------+--------------------+--------+--------+--------+-----------+------------+---------+--------------------+-------------+------+\n",
            "only showing top 20 rows\n",
            "\n"
          ]
        }
      ]
    },
    {
      "cell_type": "code",
      "source": [
        "# Checking row and columns\n",
        "num_rows = merged_df.count()\n",
        "num_columns = len(merged_df.columns)\n",
        "\n",
        "print(\"Number of rows:\", num_rows)\n",
        "print(\"Number of columns:\", num_columns)"
      ],
      "metadata": {
        "colab": {
          "base_uri": "https://localhost:8080/"
        },
        "id": "BDCorEVHDvAw",
        "outputId": "4530be15-92eb-4364-8ccc-e5fc63e1e04b"
      },
      "execution_count": 19,
      "outputs": [
        {
          "output_type": "stream",
          "name": "stdout",
          "text": [
            "Number of rows: 85114\n",
            "Number of columns: 15\n"
          ]
        }
      ]
    },
    {
      "cell_type": "markdown",
      "source": [
        "- At the end, after doing all the cleaning and transformation, the merged dataset had 85114 rows and 15 columns.\n",
        "\n",
        "\n",
        "\n",
        "\n",
        "\n"
      ],
      "metadata": {
        "id": "T_DDNliKDf2K"
      }
    },
    {
      "cell_type": "markdown",
      "source": [
        "[5] Checking correlation between Viewers and Global_Sales"
      ],
      "metadata": {
        "id": "XRH2zravn57V"
      }
    },
    {
      "cell_type": "code",
      "source": [
        "# Optionally, perform additional analysis or computations on the merged data\n",
        "correlation = merged_df.select(\"Global_Sales\", \"value\").corr(\"Global_Sales\", \"value\")\n",
        "\n",
        "# Output the merged data and correlation result\n",
        "merged_df.show(10)\n",
        "print(\"Correlation between Global Sales and Viewers:\", correlation)\n"
      ],
      "metadata": {
        "id": "x8i8vDIYBX9m",
        "colab": {
          "base_uri": "https://localhost:8080/"
        },
        "outputId": "e0bed4b8-4a3b-4c26-dda0-27a57ea6e61c"
      },
      "execution_count": 20,
      "outputs": [
        {
          "output_type": "stream",
          "name": "stdout",
          "text": [
            "+-----+--------------------+--------+----+--------+--------------------+--------+--------+--------+-----------+------------+--------+--------------------+-------------+-----+\n",
            "| Rank|                Name|Platform|Year|   Genre|           Publisher|NA_Sales|EU_Sales|JP_Sales|Other_Sales|Global_Sales| user-id|          game-title|behavior-name|value|\n",
            "+-----+--------------------+--------+----+--------+--------------------+--------+--------+--------+-----------+------------+--------+--------------------+-------------+-----+\n",
            "| 1071|Sid Meier's Civil...|      PC|2010|Strategy|Take-Two Interactive|    0.98|    0.52|     0.0|       0.19|        1.69|53875128|Sid Meier's Civil...|         play|  5.9|\n",
            "|15592|       Peggle Nights|      PC|2008|  Puzzle|        PopCap Games|     0.0|    0.01|     0.0|        0.0|        0.02|11373749|       Peggle Nights|         play| 19.5|\n",
            "|  302|       Left 4 Dead 2|    X360|2009| Shooter|     Electronic Arts|    2.67|    0.89|    0.05|       0.37|        3.99|49769103|       Left 4 Dead 2|         play|  1.4|\n",
            "| 5160|       Left 4 Dead 2|      PC|2009| Shooter|      Valve Software|     0.0|    0.32|     0.0|       0.04|        0.37|49769103|       Left 4 Dead 2|         play|  1.4|\n",
            "| 5201|Assassin's Creed III|    WiiU|2012|  Action|             Ubisoft|    0.19|    0.13|     0.0|       0.03|        0.36|64369759|Assassin's Creed III|     purchase|  1.0|\n",
            "| 2204|Assassin's Creed III|      PC|2012|  Action|             Ubisoft|    0.28|    0.53|     0.0|       0.13|        0.94|64369759|Assassin's Creed III|     purchase|  1.0|\n",
            "|  129|Assassin's Creed III|     PS3|2012|  Action|             Ubisoft|    2.64|    2.56|    0.16|       1.14|         6.5|64369759|Assassin's Creed III|     purchase|  1.0|\n",
            "|  173|Assassin's Creed III|    X360|2012|  Action|             Ubisoft|    3.13|    1.71|    0.03|       0.44|         5.3|64369759|Assassin's Creed III|     purchase|  1.0|\n",
            "| 1201|          BioShock 2|     PS3|2010| Shooter|Take-Two Interactive|    0.85|    0.47|    0.02|       0.22|        1.55| 9823354|          BioShock 2|     purchase|  1.0|\n",
            "| 6808|          BioShock 2|      PC|null| Shooter|Take-Two Interactive|    0.02|    0.19|     0.0|       0.04|        0.24| 9823354|          BioShock 2|     purchase|  1.0|\n",
            "+-----+--------------------+--------+----+--------+--------------------+--------+--------+--------+-----------+------------+--------+--------------------+-------------+-----+\n",
            "only showing top 10 rows\n",
            "\n",
            "Correlation between Global Sales and Viewers: 0.02472586461790417\n"
          ]
        }
      ]
    },
    {
      "cell_type": "markdown",
      "source": [
        "- Weak Positive Correlation:\n",
        "  - There is a weak positive correlation between the Global Sales of video games and the number of Viewers. This suggests that as the viewership increases, there is a slight tendency for the global sales of video games to increase as well. However, the correlation is relatively low, indicating that there are other factors influencing video game sales apart from viewership.\n",
        "\n",
        "- Limited Impact of Viewers on Sales:\n",
        "  - The correlation coefficient of 0.0247 suggests that the influence of viewership on global sales is limited. While there is a positive relationship, the strength of the correlation is weak, indicating that viewership alone may not be a significant predictor of video game sales. Other factors such as marketing strategies, game quality, pricing, and platform availability likely play a more substantial role in driving sales."
      ],
      "metadata": {
        "id": "BNMNdnIxpMeZ"
      }
    },
    {
      "cell_type": "markdown",
      "source": [
        "# Thank You."
      ],
      "metadata": {
        "id": "sHpcF4jT9WOF"
      }
    }
  ]
}